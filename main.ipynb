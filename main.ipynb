{
 "cells": [
  {
   "metadata": {
    "ExecuteTime": {
     "end_time": "2025-05-18T09:01:21.569785Z",
     "start_time": "2025-05-18T09:00:58.058538Z"
    }
   },
   "cell_type": "code",
   "source": [
    "import pandas as pd\n",
    "import numpy as np\n",
    "from scipy.stats import chi2_contingency, kruskal, mannwhitneyu\n",
    "#Cargar el excel.\n",
    "df = pd.read_excel(\"dataset.xlsx\")"
   ],
   "id": "fbc121e30a2defb3",
   "outputs": [],
   "execution_count": 173
  },
  {
   "metadata": {
    "ExecuteTime": {
     "end_time": "2025-05-18T09:01:21.579618Z",
     "start_time": "2025-05-18T09:01:21.576944Z"
    }
   },
   "cell_type": "code",
   "source": "#TRATAMIENTO DEL DATASET",
   "id": "f6b8d32e636cf045",
   "outputs": [],
   "execution_count": 174
  },
  {
   "metadata": {
    "ExecuteTime": {
     "end_time": "2025-05-18T09:01:21.686227Z",
     "start_time": "2025-05-18T09:01:21.650833Z"
    }
   },
   "cell_type": "code",
   "source": [
    "# Crear columna de fecha unificada\n",
    "df[\"FECHA\"] = pd.to_datetime(\n",
    "    dict(year=df[\"VISITYR\"], month=df[\"VISITMO\"], day=df[\"VISITDAY\"]),\n",
    "    errors='coerce'\n",
    ")\n",
    "# Eliminar las columnas originales de año, mes y día\n",
    "df = df.drop(columns=[\"VISITYR\", \"VISITMO\", \"VISITDAY\"])"
   ],
   "id": "afdddbcff9201887",
   "outputs": [],
   "execution_count": 175
  },
  {
   "metadata": {
    "ExecuteTime": {
     "end_time": "2025-05-18T09:01:21.747048Z",
     "start_time": "2025-05-18T09:01:21.741455Z"
    }
   },
   "cell_type": "code",
   "source": [
    "#Cambia mi variable sex para que sean valores 0 y 1 como otras categóricas para no perder la coherencia\n",
    "df[\"SEX\"] = df[\"SEX\"].replace({1: 1, 2: 0})"
   ],
   "id": "73e89dfd12437631",
   "outputs": [],
   "execution_count": 176
  },
  {
   "metadata": {
    "ExecuteTime": {
     "end_time": "2025-05-18T09:01:21.878079Z",
     "start_time": "2025-05-18T09:01:21.875186Z"
    }
   },
   "cell_type": "code",
   "source": "#Tratamiento de valores faltantes.",
   "id": "123c2bcad40a7cb",
   "outputs": [],
   "execution_count": 177
  },
  {
   "metadata": {
    "ExecuteTime": {
     "end_time": "2025-05-18T09:01:21.932735Z",
     "start_time": "2025-05-18T09:01:21.887218Z"
    }
   },
   "cell_type": "code",
   "source": [
    "#Diccionario con variables que tienen datos distintos a Nan y tendremos que transformar a Nan\n",
    "valores_faltantes = {\n",
    "    'CDRSUM': [16.5, 17.5],\n",
    "    'NACCGDS': [-4, 88],\n",
    "    'HYPERTEN': [-4, 9, 2],\n",
    "    'DIABETES': [-4, 9, 2],\n",
    "    'PD': [-4, 9],\n",
    "    'STROKE': [-4],\n",
    "    'RACE': [50, 99],\n",
    "    'EDUC': [99],\n",
    "    'NACCAGE': (\"range\", 18, 120)\n",
    "}\n",
    "# Reemplazo esos valores por Nans\n",
    "for columna, valores in valores_faltantes.items():\n",
    "    df[columna] = df[columna].replace(valores, np.nan)\n",
    "\n",
    "print(\"\\nPorcentaje de NaNs por variable:\")\n",
    "porcentaje_nans = df.isna().mean().sort_values(ascending=False) * 100\n",
    "print(porcentaje_nans)"
   ],
   "id": "5a0feab3a053613",
   "outputs": [
    {
     "name": "stdout",
     "output_type": "stream",
     "text": [
      "\n",
      "Porcentaje de NaNs por variable:\n",
      "STROKE      46.925568\n",
      "HYPERTEN    40.067023\n",
      "DIABETES    37.746339\n",
      "PD          36.974656\n",
      "NACCGDS     13.692495\n",
      "NACCAGE      2.684492\n",
      "RACE         1.632523\n",
      "EDUC         0.503694\n",
      "CDRSUM       0.196251\n",
      "FECHA        0.002562\n",
      "NACCID       0.001537\n",
      "SEX          0.001537\n",
      "dtype: float64\n"
     ]
    }
   ],
   "execution_count": 178
  },
  {
   "metadata": {
    "ExecuteTime": {
     "end_time": "2025-05-18T09:01:22.059713Z",
     "start_time": "2025-05-18T09:01:21.997421Z"
    }
   },
   "cell_type": "code",
   "source": [
    "# Número de filas antes de eliminar\n",
    "print(f\"Filas antes de eliminar: {df.shape[0]}\")\n",
    "\n",
    "# Eliminar filas con al menos un NaN en cualquier columna\n",
    "df = df.dropna()\n",
    "\n",
    "# Número de filas después de eliminar\n",
    "print(f\"Filas después de eliminar: {df.shape[0]}\")\n",
    "\n",
    "# Variables a comprobar si aún tienen NaNs\n",
    "variables_a_comprobar = [\n",
    "    \"STROKE\", \"HYPERTEN\", \"DIABETES\", \"PD\", \"NACCGDS\",\n",
    "    \"NACCAGE\", \"RACE\", \"EDUC\", \"CDRSUM\", \"FECHA\", \"NACCID\", \"SEX\"\n",
    "]\n",
    "\n",
    "# Comprobar y mostrar porcentaje de NaNs restantes en esas columnas\n",
    "nans_restantes = df[variables_a_comprobar].isna().mean() * 100\n",
    "\n",
    "if (nans_restantes > 0).any():\n",
    "    print(nans_restantes[nans_restantes > 0].sort_values(ascending=False))\n",
    "else:\n",
    "    print(\"No quedan NaNs en las variables clave.\")\n"
   ],
   "id": "1a443fbab69e7fdf",
   "outputs": [
    {
     "name": "stdout",
     "output_type": "stream",
     "text": [
      "Filas antes de eliminar: 195158\n",
      "Filas después de eliminar: 83516\n",
      "No quedan NaNs en las variables clave.\n"
     ]
    }
   ],
   "execution_count": 179
  },
  {
   "metadata": {
    "ExecuteTime": {
     "end_time": "2025-05-18T09:01:22.169153Z",
     "start_time": "2025-05-18T09:01:22.126918Z"
    }
   },
   "cell_type": "code",
   "source": [
    "# Contar número de visitas por paciente\n",
    "visitas_por_paciente = df[\"NACCID\"].value_counts()\n",
    "# Obtener los pacientes con 3 o más visitas\n",
    "pacientes_validos = visitas_por_paciente[visitas_por_paciente >= 3].index\n",
    "# Filtrar el DataFrame para quedarte solo con esos pacientes\n",
    "df = df[df[\"NACCID\"].isin(pacientes_validos)]\n",
    "# Mostrar número de filas finales\n",
    "print(f\"Filas tras filtrar pacientes con 3 o más visitas: {df.shape[0]}\")"
   ],
   "id": "afd3ce71dd0c911b",
   "outputs": [
    {
     "name": "stdout",
     "output_type": "stream",
     "text": [
      "Filas tras filtrar pacientes con 3 o más visitas: 61620\n"
     ]
    }
   ],
   "execution_count": 180
  },
  {
   "metadata": {
    "ExecuteTime": {
     "end_time": "2025-05-18T09:01:22.268647Z",
     "start_time": "2025-05-18T09:01:22.232722Z"
    }
   },
   "cell_type": "code",
   "source": [
    "# Calcular número de visitas por paciente\n",
    "# Agrupa por NACCID y cuenta cuántas visitas o filas tiene cada paciente\n",
    "visitas_por_paciente = df.groupby(\"NACCID\").size()\n",
    "\n",
    "# Mezcla el orden de los pacientes para seleccionar un subconjunto aleatorio\n",
    "pacientes_barajados = visitas_por_paciente.sample(frac=1, random_state=42)\n",
    "\n",
    "# Inicializar lista de pacientes seleccionados y contador de visitas\n",
    "pacientes_seleccionados = []\n",
    "total_filas = 0\n",
    "\n",
    "# Recorrer pacientes barajados y añadirlos hasta llegar a ~40.000 visitas\n",
    "for paciente, visitas in pacientes_barajados.items():\n",
    "    if total_filas + visitas > 40000:\n",
    "        break  # Detener el bucle si superaríamos las 40.000 filas\n",
    "    pacientes_seleccionados.append(paciente)  # Añadir paciente a la lista\n",
    "    total_filas += visitas  # Sumar sus visitas al total acumulado\n",
    "\n",
    "# Filtrar el DataFrame para conservar solo los pacientes seleccionados\n",
    "df = df[df[\"NACCID\"].isin(pacientes_seleccionados)]\n",
    "\n",
    "# Mostrar resultado final\n",
    "print(f\"Filas finales tras recorte a 40.000: {df.shape[0]}\")\n",
    "print(f\"Pacientes con ≥3 visitas incluidos: {len(pacientes_seleccionados)}\")"
   ],
   "id": "c2c9bae0c8c2e853",
   "outputs": [
    {
     "name": "stdout",
     "output_type": "stream",
     "text": [
      "Filas finales tras recorte a 40.000: 39998\n",
      "Pacientes con ≥3 visitas incluidos: 8295\n"
     ]
    }
   ],
   "execution_count": 181
  },
  {
   "metadata": {
    "ExecuteTime": {
     "end_time": "2025-05-18T09:01:22.333533Z",
     "start_time": "2025-05-18T09:01:22.330715Z"
    }
   },
   "cell_type": "code",
   "source": "#OBJETIVO 1",
   "id": "d3c79ffe1b0847bc",
   "outputs": [],
   "execution_count": 182
  },
  {
   "metadata": {
    "ExecuteTime": {
     "end_time": "2025-05-18T09:01:22.397403Z",
     "start_time": "2025-05-18T09:01:22.387254Z"
    }
   },
   "cell_type": "code",
   "source": [
    "#Clasica en 3 grupos la variable principal que es CDRSUM.\n",
    "def clasificar_gravedad(CDRSUM):\n",
    "    if CDRSUM <= 4.0:\n",
    "        return \"leve\"\n",
    "    elif CDRSUM <= 9.0:\n",
    "        return \"moderada\"\n",
    "    else:\n",
    "        return \"grave\"\n",
    "\n",
    "#Creo la variable que divide en estos 3 estadios\n",
    "df[\"GRAVEDAD_CDRSUM\"] = df[\"CDRSUM\"].apply(clasificar_gravedad)"
   ],
   "id": "12e153016456ac2a",
   "outputs": [],
   "execution_count": 183
  },
  {
   "metadata": {
    "ExecuteTime": {
     "end_time": "2025-05-18T09:01:22.465502Z",
     "start_time": "2025-05-18T09:01:22.458820Z"
    }
   },
   "cell_type": "code",
   "source": [
    "# Contar número de filas por grupo\n",
    "conteo = df[\"GRAVEDAD_CDRSUM\"].value_counts().sort_index()\n",
    "\n",
    "print(\"Número de filas (visitas) por grupo de gravedad:\")\n",
    "print(conteo)"
   ],
   "id": "c5dfb2fb207b4752",
   "outputs": [
    {
     "name": "stdout",
     "output_type": "stream",
     "text": [
      "Número de filas (visitas) por grupo de gravedad:\n",
      "GRAVEDAD_CDRSUM\n",
      "grave        1682\n",
      "leve        33521\n",
      "moderada     4795\n",
      "Name: count, dtype: int64\n"
     ]
    }
   ],
   "execution_count": 184
  },
  {
   "metadata": {
    "ExecuteTime": {
     "end_time": "2025-05-18T09:01:22.548223Z",
     "start_time": "2025-05-18T09:01:22.536347Z"
    }
   },
   "cell_type": "code",
   "source": [
    "# Contar pacientes únicos por grupo de gravedad\n",
    "pacientes_por_grupo = df.groupby(\"GRAVEDAD_CDRSUM\")[\"NACCID\"].nunique()\n",
    "\n",
    "print(\"Número de pacientes únicos por grupo de gravedad:\")\n",
    "print(pacientes_por_grupo)\n"
   ],
   "id": "a337b92c0b6521a3",
   "outputs": [
    {
     "name": "stdout",
     "output_type": "stream",
     "text": [
      "Número de pacientes únicos por grupo de gravedad:\n",
      "GRAVEDAD_CDRSUM\n",
      "grave       1000\n",
      "leve        7410\n",
      "moderada    2187\n",
      "Name: NACCID, dtype: int64\n"
     ]
    }
   ],
   "execution_count": 185
  },
  {
   "metadata": {
    "ExecuteTime": {
     "end_time": "2025-05-18T09:01:22.618607Z",
     "start_time": "2025-05-18T09:01:22.615651Z"
    }
   },
   "cell_type": "code",
   "source": [
    "#Como es normal en esta división, aunque no está balanceado, pero es normal porque hay muchos leves\n",
    "#porque probablemente hayan dejado el seguimiento pronto."
   ],
   "id": "69ae1eaa1ccbcb63",
   "outputs": [],
   "execution_count": 186
  },
  {
   "metadata": {
    "ExecuteTime": {
     "end_time": "2025-05-18T09:01:22.690887Z",
     "start_time": "2025-05-18T09:01:22.687764Z"
    }
   },
   "cell_type": "code",
   "source": [
    "variables_categoricas = [\"HYPERTEN\", \"DIABETES\", \"PD\", \"SEX\", \"RACE\", \"STROKE\", \"EDUC\"]\n",
    "variables_numericas = [\"NACCAGE\", \"NACCGDS\"]"
   ],
   "id": "4f9b9d8724323368",
   "outputs": [],
   "execution_count": 187
  },
  {
   "metadata": {
    "ExecuteTime": {
     "end_time": "2025-05-18T09:01:22.810210Z",
     "start_time": "2025-05-18T09:01:22.807445Z"
    }
   },
   "cell_type": "code",
   "source": "#La variable EDUC, aunque numérica, se ha tratado como categórica ordinal para el análisis, ya que representa años de educación completados, lo cual se interpreta como niveles discretos.",
   "id": "952c9fa072d5cc5b",
   "outputs": [],
   "execution_count": 188
  },
  {
   "metadata": {
    "ExecuteTime": {
     "end_time": "2025-05-18T09:01:22.925658Z",
     "start_time": "2025-05-18T09:01:22.820017Z"
    }
   },
   "cell_type": "code",
   "source": [
    "print(\"CONTRASTES DE HIPÓTESIS ENTRE GRUPOS DE GRAVEDAD (CDRSUM):\\n\")\n",
    "# Contrastes de hipótesis para variables categóricas → Chi-cuadrado\n",
    "for var in variables_categoricas:\n",
    "    tabla = pd.crosstab(df[\"GRAVEDAD_CDRSUM\"], df[var])\n",
    "    if tabla.shape[1] > 1:\n",
    "        stat, p, _, _ = chi2_contingency(tabla)\n",
    "        print(f\"{var} (Chi-cuadrado): p-valor = {p:.4f}\")\n",
    "    else:\n",
    "        print(f\"{var}: solo tiene una categoría válida tras limpieza, no se puede comparar.\")\n",
    "\n",
    "# Contrastes de hipótesis para variables numéricas → Kruskal-Wallis\n",
    "for var in variables_numericas:\n",
    "    grupos = [df[df[\"GRAVEDAD_CDRSUM\"] == g][var] for g in [\"leve\", \"moderada\", \"grave\"]]\n",
    "    stat, p = kruskal(*grupos)\n",
    "    print(f\"{var} (Kruskal-Wallis): p-valor = {p:.4f}\")"
   ],
   "id": "ced0ecab143c3d68",
   "outputs": [
    {
     "name": "stdout",
     "output_type": "stream",
     "text": [
      "CONTRASTES DE HIPÓTESIS ENTRE GRUPOS DE GRAVEDAD (CDRSUM):\n",
      "\n",
      "HYPERTEN (Chi-cuadrado): p-valor = 0.1948\n",
      "DIABETES (Chi-cuadrado): p-valor = 0.0326\n",
      "PD (Chi-cuadrado): p-valor = 0.0077\n",
      "SEX (Chi-cuadrado): p-valor = 0.0000\n",
      "RACE (Chi-cuadrado): p-valor = 0.0000\n",
      "STROKE (Chi-cuadrado): p-valor = 0.0000\n",
      "EDUC (Chi-cuadrado): p-valor = 0.0000\n",
      "NACCAGE (Kruskal-Wallis): p-valor = 0.0000\n",
      "NACCGDS (Kruskal-Wallis): p-valor = 0.0000\n"
     ]
    }
   ],
   "execution_count": 189
  },
  {
   "metadata": {
    "ExecuteTime": {
     "end_time": "2025-05-18T09:01:22.983010Z",
     "start_time": "2025-05-18T09:01:22.979896Z"
    }
   },
   "cell_type": "code",
   "source": [
    "#Se realizan contrastes de hipótesis para analizar si existenw diferencias significativas entre los tres grupos de gravedad (leve, moderada, grave) definidos a partir de la variable CDRSUM.\n",
    "#Para las variables categóricas se empleó el test de Chi-cuadrado, y para las variables numéricas, el test no paramétrico de Kruskal-Wallis.\n",
    "#Los resultados muestran que variables como DIABETES, SEX, RACE, STROKE, EDUC, NACCAGE y NACCGDS presentan diferencias estadísticamente significativas entre grupos (p < 0.05), lo que sugiere que podrían estar asociadas con el nivel de deterioro cognitivo. En cambio, HYPERTEN no mostró diferencias significativas."
   ],
   "id": "27ee8ded31b12058",
   "outputs": [],
   "execution_count": 190
  },
  {
   "metadata": {
    "ExecuteTime": {
     "end_time": "2025-05-18T09:01:23.044686Z",
     "start_time": "2025-05-18T09:01:23.041957Z"
    }
   },
   "cell_type": "code",
   "source": "#OBJETIVO 2",
   "id": "c8a61d953dbffcbe",
   "outputs": [],
   "execution_count": 191
  },
  {
   "metadata": {
    "ExecuteTime": {
     "end_time": "2025-05-18T09:01:23.169514Z",
     "start_time": "2025-05-18T09:01:23.151402Z"
    }
   },
   "cell_type": "code",
   "source": [
    "# Definimos los dos grupos a comparar\n",
    "grupo1 = \"leve\"\n",
    "grupo2 = \"moderada\"\n",
    "grupo3 = \"grave\"\n",
    "\n",
    "# Filtramos los datos de cada grupo\n",
    "df1 = df[df[\"GRAVEDAD_CDRSUM\"] == grupo1]\n",
    "df2 = df[df[\"GRAVEDAD_CDRSUM\"] == grupo2]\n",
    "df3 = df[df[\"GRAVEDAD_CDRSUM\"] == grupo3]"
   ],
   "id": "a35b92eaa4ae5683",
   "outputs": [],
   "execution_count": 192
  },
  {
   "metadata": {
    "ExecuteTime": {
     "end_time": "2025-05-18T09:01:23.176562Z",
     "start_time": "2025-05-18T09:01:23.174318Z"
    }
   },
   "cell_type": "code",
   "source": "#Comparar leve vs moderada",
   "id": "322f72b009c92c93",
   "outputs": [],
   "execution_count": 193
  },
  {
   "metadata": {
    "ExecuteTime": {
     "end_time": "2025-05-18T09:01:23.357908Z",
     "start_time": "2025-05-18T09:01:23.239942Z"
    }
   },
   "cell_type": "code",
   "source": [
    "print(f\"\\n Comparando los grupos {grupo1} vs {grupo2}:\\n\")\n",
    "\n",
    "# Chi-cuadrado para variables categóricas\n",
    "for var in variables_categoricas:\n",
    "    sub_df = df[df[\"GRAVEDAD_CDRSUM\"].isin([grupo1, grupo2])]\n",
    "    tabla = pd.crosstab(sub_df[\"GRAVEDAD_CDRSUM\"], sub_df[var])\n",
    "    if tabla.shape[1] > 1:\n",
    "        stat, p, _, _ = chi2_contingency(tabla)\n",
    "        print(f\" - {var}: p-valor (Chi-cuadrado) = {p:.4f}\")\n",
    "    else:\n",
    "        print(f\" - {var}: solo hay una categoría entre ambos grupos, no se puede comparar.\")\n",
    "\n",
    "# Mann-Whitney para variables numéricas\n",
    "for var in variables_numericas:\n",
    "    stat, p = mannwhitneyu(df1[var], df2[var], alternative='two-sided')\n",
    "    print(f\" - {var}: p-valor (Mann-Whitney) = {p:.4f}\")\n"
   ],
   "id": "bc030a20eda0bf38",
   "outputs": [
    {
     "name": "stdout",
     "output_type": "stream",
     "text": [
      "\n",
      " Comparando los grupos leve vs moderada:\n",
      "\n",
      " - HYPERTEN: p-valor (Chi-cuadrado) = 0.4120\n",
      " - DIABETES: p-valor (Chi-cuadrado) = 0.9466\n",
      " - PD: p-valor (Chi-cuadrado) = 0.0309\n",
      " - SEX: p-valor (Chi-cuadrado) = 0.0000\n",
      " - RACE: p-valor (Chi-cuadrado) = 0.0000\n",
      " - STROKE: p-valor (Chi-cuadrado) = 0.0000\n",
      " - EDUC: p-valor (Chi-cuadrado) = 0.0000\n",
      " - NACCAGE: p-valor (Mann-Whitney) = 0.0000\n",
      " - NACCGDS: p-valor (Mann-Whitney) = 0.0000\n"
     ]
    }
   ],
   "execution_count": 194
  },
  {
   "metadata": {},
   "cell_type": "code",
   "outputs": [],
   "execution_count": null,
   "source": [
    "#En la comparación entre los grupos leve y moderado, las variables SEX, RACE, STROKE, EDUC, NACCAGE, y NACCGDS muestran diferencias estadísticamente significativas (p < 0.05), lo que indica que podrían estar asociadas a la progresión temprana del Alzheimer.\n",
    "#n cambio, variables como HYPERTEN y DIABETES no presentan diferencias entre estos dos grupos."
   ],
   "id": "f5e456c4fc0a5ad"
  },
  {
   "metadata": {
    "ExecuteTime": {
     "end_time": "2025-05-18T09:01:23.416358Z",
     "start_time": "2025-05-18T09:01:23.412607Z"
    }
   },
   "cell_type": "code",
   "source": "#Comparar leve vs grave",
   "id": "e45a0820c723b26f",
   "outputs": [],
   "execution_count": 195
  },
  {
   "metadata": {
    "ExecuteTime": {
     "end_time": "2025-05-18T09:01:23.584125Z",
     "start_time": "2025-05-18T09:01:23.478531Z"
    }
   },
   "cell_type": "code",
   "source": [
    "print(f\"\\nComparando los grupos {grupo1} vs {grupo3}:\\n\")\n",
    "\n",
    "# Chi-cuadrado para variables categóricas\n",
    "for var in variables_categoricas:\n",
    "    sub_df = df[df[\"GRAVEDAD_CDRSUM\"].isin([grupo1, grupo3])]\n",
    "    tabla = pd.crosstab(sub_df[\"GRAVEDAD_CDRSUM\"], sub_df[var])\n",
    "    if tabla.shape[1] > 1:\n",
    "        stat, p, _, _ = chi2_contingency(tabla)\n",
    "        print(f\" - {var}: p-valor (Chi-cuadrado) = {p:.4f}\")\n",
    "    else:\n",
    "        print(f\" - {var}: solo hay una categoría entre ambos grupos, no se puede comparar.\")\n",
    "\n",
    "# Mann-Whitney para variables numéricas\n",
    "for var in variables_numericas:\n",
    "    stat, p = mannwhitneyu(df1[var], df3[var], alternative='two-sided')\n",
    "    print(f\" - {var}: p-valor (Mann-Whitney) = {p:.4f}\")\n"
   ],
   "id": "cc224c9923801bc9",
   "outputs": [
    {
     "name": "stdout",
     "output_type": "stream",
     "text": [
      "\n",
      "Comparando los grupos leve vs grave:\n",
      "\n",
      " - HYPERTEN: p-valor (Chi-cuadrado) = 0.1312\n",
      " - DIABETES: p-valor (Chi-cuadrado) = 0.0105\n",
      " - PD: p-valor (Chi-cuadrado) = 0.0203\n",
      " - SEX: p-valor (Chi-cuadrado) = 0.0000\n",
      " - RACE: p-valor (Chi-cuadrado) = 0.0000\n",
      " - STROKE: p-valor (Chi-cuadrado) = 0.0000\n",
      " - EDUC: p-valor (Chi-cuadrado) = 0.0000\n",
      " - NACCAGE: p-valor (Mann-Whitney) = 0.0000\n",
      " - NACCGDS: p-valor (Mann-Whitney) = 0.0000\n"
     ]
    }
   ],
   "execution_count": 196
  },
  {
   "metadata": {},
   "cell_type": "code",
   "outputs": [],
   "execution_count": null,
   "source": [
    "#En la comparación entre los grupos leve y grave, se encuentran diferencias estadísticamente significativas (p < 0.05) en las variables DIABETES, PD, SEX, RACE, STROKE, EDUC, NACCAGE y NACCGDS, lo que sugiere que estas variables podrían estar fuertemente asociadas con el avance del Alzheimer en etapas más marcadas.\n",
    "#Por el contrario, HYPERTEN no muestra diferencias relevantes entre estos grupos, indicando una posible ausencia de relación entre esta condición y el estadio avanzado de la enfermedad en esta muestra."
   ],
   "id": "e30fe60fc6ce5575"
  },
  {
   "metadata": {
    "ExecuteTime": {
     "end_time": "2025-05-18T09:01:23.639302Z",
     "start_time": "2025-05-18T09:01:23.636908Z"
    }
   },
   "cell_type": "code",
   "source": "#Comparar moderada vs grave",
   "id": "32d6ea760989641",
   "outputs": [],
   "execution_count": 197
  },
  {
   "metadata": {
    "ExecuteTime": {
     "end_time": "2025-05-18T09:01:23.769245Z",
     "start_time": "2025-05-18T09:01:23.702229Z"
    }
   },
   "cell_type": "code",
   "source": [
    "print(f\"\\nComparando los grupos {grupo2} vs {grupo3}:\\n\")\n",
    "\n",
    "# Chi-cuadrado para variables categóricas\n",
    "for var in variables_categoricas:\n",
    "    sub_df = df[df[\"GRAVEDAD_CDRSUM\"].isin([grupo2, grupo3])]\n",
    "    tabla = pd.crosstab(sub_df[\"GRAVEDAD_CDRSUM\"], sub_df[var])\n",
    "    if tabla.shape[1] > 1:\n",
    "        stat, p, _, _ = chi2_contingency(tabla)\n",
    "        print(f\" - {var}: p-valor (Chi-cuadrado) = {p:.4f}\")\n",
    "    else:\n",
    "        print(f\" - {var}: solo hay una categoría entre ambos grupos, no se puede comparar.\")\n",
    "\n",
    "# Mann-Whitney para variables numéricas\n",
    "for var in variables_numericas:\n",
    "    stat, p = mannwhitneyu(df2[var], df3[var], alternative='two-sided')\n",
    "    print(f\" - {var}: p-valor (Mann-Whitney) = {p:.4f}\")"
   ],
   "id": "1a3334f252894972",
   "outputs": [
    {
     "name": "stdout",
     "output_type": "stream",
     "text": [
      "\n",
      "Comparando los grupos moderada vs grave:\n",
      "\n",
      " - HYPERTEN: p-valor (Chi-cuadrado) = 0.0751\n",
      " - DIABETES: p-valor (Chi-cuadrado) = 0.0236\n",
      " - PD: p-valor (Chi-cuadrado) = 0.4708\n",
      " - SEX: p-valor (Chi-cuadrado) = 0.0000\n",
      " - RACE: p-valor (Chi-cuadrado) = 0.0031\n",
      " - STROKE: p-valor (Chi-cuadrado) = 0.0378\n",
      " - EDUC: p-valor (Chi-cuadrado) = 0.0000\n",
      " - NACCAGE: p-valor (Mann-Whitney) = 0.0000\n",
      " - NACCGDS: p-valor (Mann-Whitney) = 0.0000\n"
     ]
    }
   ],
   "execution_count": 198
  },
  {
   "metadata": {},
   "cell_type": "code",
   "outputs": [],
   "execution_count": null,
   "source": [
    "#En la comparación entre los grupos moderado y grave, se encuentran diferencias estadísticamente significativas (p < 0.05) en las variables DIABETES, SEX, RACE, STROKE, EDUC, NACCAGE y NACCGDS, lo que sugiere que estas variables podrían estar asociadas con la progresión hacia fases más avanzadas de la enfermedad.\n",
    "#En cambio, HYPERTEN y PD no muestran diferencias relevantes entre ambos grupos, lo que indica una posible falta de asociación con esta transición concreta."
   ],
   "id": "ccee2257d91407da"
  },
  {
   "metadata": {
    "ExecuteTime": {
     "end_time": "2025-05-18T09:01:23.836296Z",
     "start_time": "2025-05-18T09:01:23.832622Z"
    }
   },
   "cell_type": "code",
   "source": "# Exportar a un nuevo DataFrame",
   "id": "4b68d7caa19e70c2",
   "outputs": [],
   "execution_count": 199
  },
  {
   "metadata": {
    "ExecuteTime": {
     "end_time": "2025-05-18T09:01:24.146777Z",
     "start_time": "2025-05-18T09:01:23.891790Z"
    }
   },
   "cell_type": "code",
   "source": [
    "# Lista para almacenar resultados\n",
    "resultados = []\n",
    "\n",
    "# Comparaciones por pares (usando df1, df2, df3 ya definidos anteriormente)\n",
    "comparaciones = [\n",
    "    (\"leve\", \"moderada\", df1, df2),\n",
    "    (\"leve\", \"grave\", df1, df3),\n",
    "    (\"moderada\", \"grave\", df2, df3)\n",
    "]\n",
    "\n",
    "# Recorrer comparaciones\n",
    "for g1, g2, dfa, dfb in comparaciones:\n",
    "\n",
    "    # Chi-cuadrado para categóricas\n",
    "    for var in variables_categoricas:\n",
    "        sub_df = df[df[\"GRAVEDAD_CDRSUM\"].isin([g1, g2])]\n",
    "        tabla = pd.crosstab(sub_df[\"GRAVEDAD_CDRSUM\"], sub_df[var])\n",
    "        if tabla.shape[1] > 1:\n",
    "            stat, p, _, _ = chi2_contingency(tabla)\n",
    "            resultados.append({\n",
    "                \"Comparación\": f\"{g1} vs {g2}\",\n",
    "                \"Variable\": var,\n",
    "                \"Tipo de test\": \"Chi-cuadrado\",\n",
    "                \"p-valor\": round(p, 4),\n",
    "                \"Significativo\": \"Sí\" if p < 0.05 else \"No\"\n",
    "            })\n",
    "\n",
    "    # Mann-Whitney para numéricas\n",
    "    for var in variables_numericas:\n",
    "        stat, p = mannwhitneyu(dfa[var], dfb[var], alternative='two-sided')\n",
    "        resultados.append({\n",
    "            \"Comparación\": f\"{g1} vs {g2}\",\n",
    "            \"Variable\": var,\n",
    "            \"Tipo de test\": \"Mann-Whitney\",\n",
    "            \"p-valor\": round(p, 4),\n",
    "            \"Significativo\": \"Sí\" if p < 0.05 else \"No\"\n",
    "        })\n",
    "\n",
    "# Crear DataFrame final con resultados\n",
    "df_resultados = pd.DataFrame(resultados)\n",
    "\n",
    "# Guardar como CSV\n",
    "df_resultados.to_csv(\"resultados_comparaciones_por_pares.csv\", index=False)"
   ],
   "id": "17ce6091b8ae0354",
   "outputs": [],
   "execution_count": 200
  },
  {
   "metadata": {
    "ExecuteTime": {
     "end_time": "2025-05-18T09:01:24.228950Z",
     "start_time": "2025-05-18T09:01:24.209816Z"
    }
   },
   "cell_type": "code",
   "source": [
    "print(df[\"HYPERTEN\"].value_counts(dropna=False))\n",
    "pd.crosstab(df[\"GRAVEDAD_CDRSUM\"], df[\"HYPERTEN\"], normalize='index') * 100"
   ],
   "id": "6b9a996079d8be07",
   "outputs": [
    {
     "name": "stdout",
     "output_type": "stream",
     "text": [
      "HYPERTEN\n",
      "1.0    22163\n",
      "0.0    17835\n",
      "Name: count, dtype: int64\n"
     ]
    },
    {
     "data": {
      "text/plain": [
       "HYPERTEN               0.0        1.0\n",
       "GRAVEDAD_CDRSUM                      \n",
       "grave            42.687277  57.312723\n",
       "leve             44.592942  55.407058\n",
       "moderada         45.234619  54.765381"
      ],
      "text/html": [
       "<div>\n",
       "<style scoped>\n",
       "    .dataframe tbody tr th:only-of-type {\n",
       "        vertical-align: middle;\n",
       "    }\n",
       "\n",
       "    .dataframe tbody tr th {\n",
       "        vertical-align: top;\n",
       "    }\n",
       "\n",
       "    .dataframe thead th {\n",
       "        text-align: right;\n",
       "    }\n",
       "</style>\n",
       "<table border=\"1\" class=\"dataframe\">\n",
       "  <thead>\n",
       "    <tr style=\"text-align: right;\">\n",
       "      <th>HYPERTEN</th>\n",
       "      <th>0.0</th>\n",
       "      <th>1.0</th>\n",
       "    </tr>\n",
       "    <tr>\n",
       "      <th>GRAVEDAD_CDRSUM</th>\n",
       "      <th></th>\n",
       "      <th></th>\n",
       "    </tr>\n",
       "  </thead>\n",
       "  <tbody>\n",
       "    <tr>\n",
       "      <th>grave</th>\n",
       "      <td>42.687277</td>\n",
       "      <td>57.312723</td>\n",
       "    </tr>\n",
       "    <tr>\n",
       "      <th>leve</th>\n",
       "      <td>44.592942</td>\n",
       "      <td>55.407058</td>\n",
       "    </tr>\n",
       "    <tr>\n",
       "      <th>moderada</th>\n",
       "      <td>45.234619</td>\n",
       "      <td>54.765381</td>\n",
       "    </tr>\n",
       "  </tbody>\n",
       "</table>\n",
       "</div>"
      ]
     },
     "execution_count": 201,
     "metadata": {},
     "output_type": "execute_result"
    }
   ],
   "execution_count": 201
  },
  {
   "metadata": {
    "ExecuteTime": {
     "end_time": "2025-05-18T09:01:24.327213Z",
     "start_time": "2025-05-18T09:01:24.324159Z"
    }
   },
   "cell_type": "code",
   "source": "#Como hipertensión parece no estar relacionado en ninguno de los 3 grupos con el aumento en la gravedad del Alzheimer, he creido oportuno comprobar si he preprocesado bien la variable y entender por qué no esta relacionado.",
   "id": "f5c5c31c4a91d316",
   "outputs": [],
   "execution_count": 202
  },
  {
   "metadata": {
    "ExecuteTime": {
     "end_time": "2025-05-18T09:01:24.372768Z",
     "start_time": "2025-05-18T09:01:24.370044Z"
    }
   },
   "cell_type": "code",
   "source": "#Aunque la hipertensión está presente en más del 50% de los casos en cada grupo, su proporción se mantiene estable, sin variaciones relevantes entre leve (55.4%), moderada (54.8%) y grave (57.3%). Esto sugiere que, en esta muestra, la hipertensión no parece estar asociada al avance de la enfermedad.",
   "id": "87bd5fa5b10782e4",
   "outputs": [],
   "execution_count": 203
  }
 ],
 "metadata": {
  "kernelspec": {
   "display_name": "Python 3",
   "language": "python",
   "name": "python3"
  },
  "language_info": {
   "codemirror_mode": {
    "name": "ipython",
    "version": 2
   },
   "file_extension": ".py",
   "mimetype": "text/x-python",
   "name": "python",
   "nbconvert_exporter": "python",
   "pygments_lexer": "ipython2",
   "version": "2.7.6"
  }
 },
 "nbformat": 4,
 "nbformat_minor": 5
}
