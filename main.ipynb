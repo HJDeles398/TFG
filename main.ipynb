{
 "cells": [
  {
   "metadata": {
    "ExecuteTime": {
     "end_time": "2025-05-17T17:29:23.757352Z",
     "start_time": "2025-05-17T17:29:01.132213Z"
    }
   },
   "cell_type": "code",
   "source": [
    "from socketserver import StreamRequestHandler\n",
    "\n",
    "import pandas as pd\n",
    "import numpy as np\n",
    "#Cargar el excel.\n",
    "df = pd.read_excel(\"dataset.xlsx\")"
   ],
   "id": "fbc121e30a2defb3",
   "outputs": [],
   "execution_count": 15
  },
  {
   "metadata": {
    "ExecuteTime": {
     "end_time": "2025-05-17T17:29:23.769709Z",
     "start_time": "2025-05-17T17:29:23.766851Z"
    }
   },
   "cell_type": "code",
   "source": "#TRATAMIENTO DEL DATASET",
   "id": "f6b8d32e636cf045",
   "outputs": [],
   "execution_count": 16
  },
  {
   "metadata": {
    "ExecuteTime": {
     "end_time": "2025-05-17T17:29:23.831145Z",
     "start_time": "2025-05-17T17:29:23.789111Z"
    }
   },
   "cell_type": "code",
   "source": [
    "# Crear columna de fecha unificada\n",
    "df[\"FECHA\"] = pd.to_datetime(\n",
    "    dict(year=df[\"VISITYR\"], month=df[\"VISITMO\"], day=df[\"VISITDAY\"]),\n",
    "    errors='coerce'\n",
    ")\n",
    "# Eliminar las columnas originales de año, mes y día\n",
    "df = df.drop(columns=[\"VISITYR\", \"VISITMO\", \"VISITDAY\"])"
   ],
   "id": "afdddbcff9201887",
   "outputs": [],
   "execution_count": 17
  },
  {
   "metadata": {
    "ExecuteTime": {
     "end_time": "2025-05-17T17:29:23.854905Z",
     "start_time": "2025-05-17T17:29:23.846715Z"
    }
   },
   "cell_type": "code",
   "source": [
    "#Cambia mi variable sex para que sean valores 0 y 1 como otras categóricas para no perder la coherencia\n",
    "df[\"SEX\"] = df[\"SEX\"].replace({1: 1, 2: 0})"
   ],
   "id": "73e89dfd12437631",
   "outputs": [],
   "execution_count": 18
  },
  {
   "metadata": {
    "ExecuteTime": {
     "end_time": "2025-05-17T17:29:23.895630Z",
     "start_time": "2025-05-17T17:29:23.890955Z"
    }
   },
   "cell_type": "code",
   "source": "#Tratamiento de valores faltantes.",
   "id": "123c2bcad40a7cb",
   "outputs": [],
   "execution_count": 19
  },
  {
   "metadata": {
    "ExecuteTime": {
     "end_time": "2025-05-17T17:29:23.968450Z",
     "start_time": "2025-05-17T17:29:23.920251Z"
    }
   },
   "cell_type": "code",
   "source": [
    "#Diccionario con variables que tienen datos distintos a Nan y tendremos que transformar a Nan\n",
    "valores_faltantes = {\n",
    "    'CDRSUM': [16.5, 17.5],\n",
    "    'NACCGDS': [-4, 88],\n",
    "    'HYPERTEN': [-4, 9, 2],\n",
    "    'DIABETES': [-4, 9, 2],\n",
    "    'PD': [-4, 9],\n",
    "    'STROKE': [-4],\n",
    "    'RACE': [50, 99],\n",
    "    'EDUC': [99],\n",
    "    'NACCAGE': (\"range\", 18, 120)\n",
    "}\n",
    "# Reemplazo esos valores por Nans\n",
    "for columna, valores in valores_faltantes.items():\n",
    "    df[columna] = df[columna].replace(valores, np.nan)\n",
    "\n",
    "print(\"\\nPorcentaje de NaNs por variable:\")\n",
    "porcentaje_nans = df.isna().mean().sort_values(ascending=False) * 100\n",
    "print(porcentaje_nans)"
   ],
   "id": "5a0feab3a053613",
   "outputs": [
    {
     "name": "stdout",
     "output_type": "stream",
     "text": [
      "\n",
      "Porcentaje de NaNs por variable:\n",
      "STROKE      46.925568\n",
      "HYPERTEN    40.067023\n",
      "DIABETES    37.746339\n",
      "PD          36.974656\n",
      "NACCGDS     13.692495\n",
      "NACCAGE      2.684492\n",
      "RACE         1.632523\n",
      "EDUC         0.503694\n",
      "CDRSUM       0.196251\n",
      "FECHA        0.002562\n",
      "NACCID       0.001537\n",
      "SEX          0.001537\n",
      "dtype: float64\n"
     ]
    }
   ],
   "execution_count": 20
  },
  {
   "metadata": {
    "ExecuteTime": {
     "end_time": "2025-05-17T17:32:35.870322Z",
     "start_time": "2025-05-17T17:32:35.850776Z"
    }
   },
   "cell_type": "code",
   "source": [
    "# Número de filas antes de eliminar\n",
    "print(f\"Filas antes de eliminar: {df.shape[0]}\")\n",
    "\n",
    "# Eliminar filas con al menos un NaN en cualquier columna\n",
    "df = df.dropna()\n",
    "\n",
    "# Número de filas después de eliminar\n",
    "print(f\"Filas después de eliminar: {df.shape[0]}\")\n",
    "\n",
    "# Variables a comprobar si aún tienen NaNs\n",
    "variables_a_comprobar = [\n",
    "    \"STROKE\", \"HYPERTEN\", \"DIABETES\", \"PD\", \"NACCGDS\",\n",
    "    \"NACCAGE\", \"RACE\", \"EDUC\", \"CDRSUM\", \"FECHA\", \"NACCID\", \"SEX\"\n",
    "]\n",
    "\n",
    "# Comprobar y mostrar porcentaje de NaNs restantes en esas columnas\n",
    "nans_restantes = df[variables_a_comprobar].isna().mean() * 100\n",
    "\n",
    "if (nans_restantes > 0).any():\n",
    "    print(nans_restantes[nans_restantes > 0].sort_values(ascending=False))\n",
    "else:\n",
    "    print(\"No quedan NaNs en las variables clave.\")\n"
   ],
   "id": "1a443fbab69e7fdf",
   "outputs": [
    {
     "name": "stdout",
     "output_type": "stream",
     "text": [
      "Filas antes de eliminar: 39998\n",
      "Filas después de eliminar: 39998\n",
      "No quedan NaNs en las variables clave.\n"
     ]
    }
   ],
   "execution_count": 30
  },
  {
   "metadata": {
    "ExecuteTime": {
     "end_time": "2025-05-17T17:29:24.094030Z",
     "start_time": "2025-05-17T17:29:24.049164Z"
    }
   },
   "cell_type": "code",
   "source": [
    "# Contar número de visitas por paciente\n",
    "visitas_por_paciente = df[\"NACCID\"].value_counts()\n",
    "# Obtener los pacientes con 3 o más visitas\n",
    "pacientes_validos = visitas_por_paciente[visitas_por_paciente >= 3].index\n",
    "# Filtrar el DataFrame para quedarte solo con esos pacientes\n",
    "df = df[df[\"NACCID\"].isin(pacientes_validos)]\n",
    "# Mostrar número de filas finales\n",
    "print(f\"Filas tras filtrar pacientes con 3 o más visitas: {df.shape[0]}\")"
   ],
   "id": "afd3ce71dd0c911b",
   "outputs": [
    {
     "name": "stdout",
     "output_type": "stream",
     "text": [
      "Filas tras filtrar pacientes con 3 o más visitas: 61620\n"
     ]
    }
   ],
   "execution_count": 22
  },
  {
   "metadata": {
    "ExecuteTime": {
     "end_time": "2025-05-17T17:29:24.219134Z",
     "start_time": "2025-05-17T17:29:24.173310Z"
    }
   },
   "cell_type": "code",
   "source": [
    "# Calcular número de visitas por paciente\n",
    "# Agrupa por NACCID y cuenta cuántas visitas o filas tiene cada paciente\n",
    "visitas_por_paciente = df.groupby(\"NACCID\").size()\n",
    "\n",
    "# Mezcla el orden de los pacientes para seleccionar un subconjunto aleatorio\n",
    "pacientes_barajados = visitas_por_paciente.sample(frac=1, random_state=42)\n",
    "\n",
    "# Inicializar lista de pacientes seleccionados y contador de visitas\n",
    "pacientes_seleccionados = []\n",
    "total_filas = 0\n",
    "\n",
    "# Recorrer pacientes barajados y añadirlos hasta llegar a ~40.000 visitas\n",
    "for paciente, visitas in pacientes_barajados.items():\n",
    "    if total_filas + visitas > 40000:\n",
    "        break  # Detener el bucle si superaríamos las 40.000 filas\n",
    "    pacientes_seleccionados.append(paciente)  # Añadir paciente a la lista\n",
    "    total_filas += visitas  # Sumar sus visitas al total acumulado\n",
    "\n",
    "# Filtrar el DataFrame para conservar solo los pacientes seleccionados\n",
    "df = df[df[\"NACCID\"].isin(pacientes_seleccionados)]\n",
    "\n",
    "# Mostrar resultado final\n",
    "print(f\"Filas finales tras recorte a 40.000: {df.shape[0]}\")\n",
    "print(f\"Pacientes con ≥3 visitas incluidos: {len(pacientes_seleccionados)}\")"
   ],
   "id": "c2c9bae0c8c2e853",
   "outputs": [
    {
     "name": "stdout",
     "output_type": "stream",
     "text": [
      "Filas finales tras recorte a 40.000: 39998\n",
      "Pacientes con ≥3 visitas incluidos: 8295\n"
     ]
    }
   ],
   "execution_count": 23
  },
  {
   "metadata": {
    "ExecuteTime": {
     "end_time": "2025-05-17T17:29:24.244248Z",
     "start_time": "2025-05-17T17:29:24.240057Z"
    }
   },
   "cell_type": "code",
   "source": "#OBJETIVO 1",
   "id": "d3c79ffe1b0847bc",
   "outputs": [],
   "execution_count": 24
  },
  {
   "metadata": {
    "ExecuteTime": {
     "end_time": "2025-05-17T17:29:24.271162Z",
     "start_time": "2025-05-17T17:29:24.259299Z"
    }
   },
   "cell_type": "code",
   "source": [
    "#Clasica en 3 grupos la variable principal que es CDRSUM.\n",
    "def clasificar_gravedad(CDRSUM):\n",
    "    if CDRSUM <= 4.0:\n",
    "        return \"leve\"\n",
    "    elif CDRSUM<= 9.0:\n",
    "        return \"moderada\"\n",
    "    else:\n",
    "        return \"grave\"\n",
    "\n",
    "#Creo la variable que divide en estos 3 estadios\n",
    "df[\"GRAVEDAD_CDRSUM\"] = df[\"CDRSUM\"].apply(clasificar_gravedad)"
   ],
   "id": "12e153016456ac2a",
   "outputs": [],
   "execution_count": 25
  },
  {
   "metadata": {
    "ExecuteTime": {
     "end_time": "2025-05-17T17:29:24.298412Z",
     "start_time": "2025-05-17T17:29:24.288074Z"
    }
   },
   "cell_type": "code",
   "source": [
    "# Contar número de filas por grupo\n",
    "conteo = df[\"GRAVEDAD_CDRSUM\"].value_counts().sort_index()\n",
    "\n",
    "print(\"Número de filas (visitas) por grupo de gravedad:\")\n",
    "print(conteo)"
   ],
   "id": "c5dfb2fb207b4752",
   "outputs": [
    {
     "name": "stdout",
     "output_type": "stream",
     "text": [
      "Número de filas (visitas) por grupo de gravedad:\n",
      "GRAVEDAD_CDRSUM\n",
      "grave        1682\n",
      "leve        33521\n",
      "moderada     4795\n",
      "Name: count, dtype: int64\n"
     ]
    }
   ],
   "execution_count": 26
  },
  {
   "metadata": {
    "ExecuteTime": {
     "end_time": "2025-05-17T17:29:24.337993Z",
     "start_time": "2025-05-17T17:29:24.321969Z"
    }
   },
   "cell_type": "code",
   "source": [
    "# Contar pacientes únicos por grupo de gravedad\n",
    "pacientes_por_grupo = df.groupby(\"GRAVEDAD_CDRSUM\")[\"NACCID\"].nunique()\n",
    "\n",
    "print(\"Número de pacientes únicos por grupo de gravedad:\")\n",
    "print(pacientes_por_grupo)\n"
   ],
   "id": "a337b92c0b6521a3",
   "outputs": [
    {
     "name": "stdout",
     "output_type": "stream",
     "text": [
      "Número de pacientes únicos por grupo de gravedad:\n",
      "GRAVEDAD_CDRSUM\n",
      "grave       1000\n",
      "leve        7410\n",
      "moderada    2187\n",
      "Name: NACCID, dtype: int64\n"
     ]
    }
   ],
   "execution_count": 27
  },
  {
   "metadata": {
    "ExecuteTime": {
     "end_time": "2025-05-17T17:29:24.375060Z",
     "start_time": "2025-05-17T17:29:24.371603Z"
    }
   },
   "cell_type": "code",
   "source": [
    "#Como es normal en esta división, aunque no está balanceado, pero es normal porque hay muchos leves\n",
    "#porque probablemente hayan dejado el seguimiento pronto."
   ],
   "id": "69ae1eaa1ccbcb63",
   "outputs": [],
   "execution_count": 28
  }
 ],
 "metadata": {
  "kernelspec": {
   "display_name": "Python 3",
   "language": "python",
   "name": "python3"
  },
  "language_info": {
   "codemirror_mode": {
    "name": "ipython",
    "version": 2
   },
   "file_extension": ".py",
   "mimetype": "text/x-python",
   "name": "python",
   "nbconvert_exporter": "python",
   "pygments_lexer": "ipython2",
   "version": "2.7.6"
  }
 },
 "nbformat": 4,
 "nbformat_minor": 5
}
