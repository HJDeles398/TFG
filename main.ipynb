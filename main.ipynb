{
 "cells": [
  {
   "metadata": {
    "ExecuteTime": {
     "end_time": "2025-05-17T16:54:40.288904Z",
     "start_time": "2025-05-17T16:54:15.060178Z"
    }
   },
   "cell_type": "code",
   "source": [
    "from socketserver import StreamRequestHandler\n",
    "\n",
    "import pandas as pd\n",
    "import numpy as np\n",
    "#Cargar el excel.\n",
    "df = pd.read_excel(\"dataset.xlsx\")"
   ],
   "id": "fbc121e30a2defb3",
   "outputs": [],
   "execution_count": 2
  },
  {
   "metadata": {
    "ExecuteTime": {
     "end_time": "2025-05-17T16:54:40.306695Z",
     "start_time": "2025-05-17T16:54:40.304007Z"
    }
   },
   "cell_type": "code",
   "source": "#TRATAMIENTO DEL DATASET",
   "id": "f6b8d32e636cf045",
   "outputs": [],
   "execution_count": 3
  },
  {
   "metadata": {
    "ExecuteTime": {
     "end_time": "2025-05-17T16:54:40.385614Z",
     "start_time": "2025-05-17T16:54:40.347018Z"
    }
   },
   "cell_type": "code",
   "source": [
    "# Crear columna de fecha unificada\n",
    "df[\"FECHA\"] = pd.to_datetime(\n",
    "    dict(year=df[\"VISITYR\"], month=df[\"VISITMO\"], day=df[\"VISITDAY\"]),\n",
    "    errors='coerce'\n",
    ")\n",
    "# Eliminar las columnas originales de año, mes y día\n",
    "df = df.drop(columns=[\"VISITYR\", \"VISITMO\", \"VISITDAY\"])"
   ],
   "id": "afdddbcff9201887",
   "outputs": [],
   "execution_count": 4
  },
  {
   "metadata": {
    "ExecuteTime": {
     "end_time": "2025-05-17T16:54:40.403407Z",
     "start_time": "2025-05-17T16:54:40.400410Z"
    }
   },
   "cell_type": "code",
   "source": "#Tratamiento de valores faltantes.",
   "id": "123c2bcad40a7cb",
   "outputs": [],
   "execution_count": 5
  },
  {
   "metadata": {
    "ExecuteTime": {
     "end_time": "2025-05-17T16:54:40.468972Z",
     "start_time": "2025-05-17T16:54:40.425302Z"
    }
   },
   "cell_type": "code",
   "source": [
    "#Diccionario con variables faltantes\n",
    "valores_faltantes = {\n",
    "    'CDRSUM': [16.5, 17.5],\n",
    "    'NACCGDS': [-4, 88],\n",
    "    'HYPERTEN': [-4, 9, 2],\n",
    "    'DIABETES': [-4, 9, 2],\n",
    "    'PD': [-4, 9],\n",
    "    'STROKE': [-4],\n",
    "    'RACE': [50, 99],\n",
    "    'EDUC': [99],\n",
    "}\n",
    "# Reemplazo esos valores por Nans\n",
    "for columna, valores in valores_faltantes.items():\n",
    "    df[columna] = df[columna].replace(valores, np.nan)\n",
    "\n",
    "print(\"\\nPorcentaje de NaNs por variable:\")\n",
    "porcentaje_nans = df.isna().mean().sort_values(ascending=False) * 100\n",
    "print(porcentaje_nans)"
   ],
   "id": "5a0feab3a053613",
   "outputs": [
    {
     "name": "stdout",
     "output_type": "stream",
     "text": [
      "\n",
      "Porcentaje de NaNs por variable:\n",
      "STROKE      46.925568\n",
      "HYPERTEN    40.067023\n",
      "DIABETES    37.746339\n",
      "PD          36.974656\n",
      "NACCGDS     13.692495\n",
      "NACCAGE      2.679367\n",
      "RACE         1.632523\n",
      "EDUC         0.503694\n",
      "CDRSUM       0.196251\n",
      "FECHA        0.002562\n",
      "NACCID       0.001537\n",
      "SEX          0.001537\n",
      "dtype: float64\n"
     ]
    }
   ],
   "execution_count": 6
  },
  {
   "metadata": {
    "ExecuteTime": {
     "end_time": "2025-05-17T16:54:40.521762Z",
     "start_time": "2025-05-17T16:54:40.483831Z"
    }
   },
   "cell_type": "code",
   "source": [
    "# Número de filas antes de eliminar\n",
    "print(f\"Filas antes de eliminar: {df.shape[0]}\")\n",
    "# Eliminar filas con al menos un NaN en cualquier columna\n",
    "df = df.dropna()\n",
    "# Número de filas después de eliminar\n",
    "print(f\"Filas después de eliminar: {df.shape[0]}\")"
   ],
   "id": "1a443fbab69e7fdf",
   "outputs": [
    {
     "name": "stdout",
     "output_type": "stream",
     "text": [
      "Filas antes de eliminar: 195158\n",
      "Filas después de eliminar: 83517\n"
     ]
    }
   ],
   "execution_count": 7
  },
  {
   "metadata": {
    "ExecuteTime": {
     "end_time": "2025-05-17T16:54:40.584450Z",
     "start_time": "2025-05-17T16:54:40.536954Z"
    }
   },
   "cell_type": "code",
   "source": [
    "# Contar número de visitas por paciente\n",
    "visitas_por_paciente = df[\"NACCID\"].value_counts()\n",
    "# Obtener los pacientes con 3 o más visitas\n",
    "pacientes_validos = visitas_por_paciente[visitas_por_paciente >= 3].index\n",
    "# Filtrar el DataFrame para quedarte solo con esos pacientes\n",
    "df = df[df[\"NACCID\"].isin(pacientes_validos)]\n",
    "# Mostrar número de filas finales\n",
    "print(f\"Filas tras filtrar pacientes con 3 o más visitas: {df.shape[0]}\")"
   ],
   "id": "afd3ce71dd0c911b",
   "outputs": [
    {
     "name": "stdout",
     "output_type": "stream",
     "text": [
      "Filas tras filtrar pacientes con 3 o más visitas: 61620\n"
     ]
    }
   ],
   "execution_count": 8
  },
  {
   "metadata": {
    "ExecuteTime": {
     "end_time": "2025-05-17T16:54:40.654022Z",
     "start_time": "2025-05-17T16:54:40.604499Z"
    }
   },
   "cell_type": "code",
   "source": [
    "# Calcular número de visitas por paciente\n",
    "# Agrupa por NACCID y cuenta cuántas visitas o filas tiene cada paciente\n",
    "visitas_por_paciente = df.groupby(\"NACCID\").size()\n",
    "\n",
    "# Mezcla el orden de los pacientes para seleccionar un subconjunto aleatorio\n",
    "pacientes_barajados = visitas_por_paciente.sample(frac=1, random_state=42)\n",
    "\n",
    "# Inicializar lista de pacientes seleccionados y contador de visitas\n",
    "pacientes_seleccionados = []\n",
    "total_filas = 0\n",
    "\n",
    "# Recorrer pacientes barajados y añadirlos hasta llegar a ~40.000 visitas\n",
    "for paciente, visitas in pacientes_barajados.items():\n",
    "    if total_filas + visitas > 40000:\n",
    "        break  # Detener el bucle si superaríamos las 40.000 filas\n",
    "    pacientes_seleccionados.append(paciente)  # Añadir paciente a la lista\n",
    "    total_filas += visitas  # Sumar sus visitas al total acumulado\n",
    "\n",
    "# Filtrar el DataFrame para conservar solo los pacientes seleccionados\n",
    "df = df[df[\"NACCID\"].isin(pacientes_seleccionados)]\n",
    "\n",
    "# Mostrar resultado final\n",
    "print(f\"Filas finales tras recorte a 40.000: {df.shape[0]}\")\n",
    "print(f\"Pacientes con ≥3 visitas incluidos: {len(pacientes_seleccionados)}\")"
   ],
   "id": "c2c9bae0c8c2e853",
   "outputs": [
    {
     "name": "stdout",
     "output_type": "stream",
     "text": [
      "Filas finales tras recorte a 40.000: 39998\n",
      "Pacientes con ≥3 visitas incluidos: 8295\n"
     ]
    }
   ],
   "execution_count": 9
  },
  {
   "metadata": {
    "ExecuteTime": {
     "end_time": "2025-05-17T16:54:40.677027Z",
     "start_time": "2025-05-17T16:54:40.672221Z"
    }
   },
   "cell_type": "code",
   "outputs": [],
   "execution_count": 10,
   "source": "#OBJETIVO 1",
   "id": "d3c79ffe1b0847bc"
  },
  {
   "metadata": {
    "ExecuteTime": {
     "end_time": "2025-05-17T16:54:40.708377Z",
     "start_time": "2025-05-17T16:54:40.695153Z"
    }
   },
   "cell_type": "code",
   "source": [
    "#Clasica en 3 grupos la variable principal que es CDRSUM.\n",
    "def clasificar_gravedad(CDRSUM):\n",
    "    if CDRSUM <= 4.0:\n",
    "        return \"leve\"\n",
    "    elif CDRSUM<= 9.0:\n",
    "        return \"moderada\"\n",
    "    else:\n",
    "        return \"grave\"\n",
    "\n",
    "#Creo la variable que divide en estos 3 estadios\n",
    "df[\"GRAVEDAD_CDRSUM\"] = df[\"CDRSUM\"].apply(clasificar_gravedad)"
   ],
   "id": "12e153016456ac2a",
   "outputs": [],
   "execution_count": 11
  },
  {
   "metadata": {
    "ExecuteTime": {
     "end_time": "2025-05-17T16:54:51.942721Z",
     "start_time": "2025-05-17T16:54:51.931304Z"
    }
   },
   "cell_type": "code",
   "source": [
    "# Contar número de filas por grupo\n",
    "conteo = df[\"GRAVEDAD_CDRSUM\"].value_counts().sort_index()\n",
    "\n",
    "print(\"Número de filas (visitas) por grupo de gravedad:\")\n",
    "print(conteo)"
   ],
   "id": "c5dfb2fb207b4752",
   "outputs": [
    {
     "name": "stdout",
     "output_type": "stream",
     "text": [
      "Número de filas (visitas) por grupo de gravedad:\n",
      "GRAVEDAD_CDRSUM\n",
      "grave        1682\n",
      "leve        33521\n",
      "moderada     4795\n",
      "Name: count, dtype: int64\n"
     ]
    }
   ],
   "execution_count": 13
  },
  {
   "metadata": {
    "ExecuteTime": {
     "end_time": "2025-05-17T16:58:23.949523Z",
     "start_time": "2025-05-17T16:58:23.930076Z"
    }
   },
   "cell_type": "code",
   "source": [
    "# Contar pacientes únicos por grupo de gravedad\n",
    "pacientes_por_grupo = df.groupby(\"GRAVEDAD_CDRSUM\")[\"NACCID\"].nunique()\n",
    "\n",
    "print(\"Número de pacientes únicos por grupo de gravedad:\")\n",
    "print(pacientes_por_grupo)\n"
   ],
   "id": "a337b92c0b6521a3",
   "outputs": [
    {
     "name": "stdout",
     "output_type": "stream",
     "text": [
      "Número de pacientes únicos por grupo de gravedad:\n",
      "GRAVEDAD_CDRSUM\n",
      "grave       1000\n",
      "leve        7410\n",
      "moderada    2187\n",
      "Name: NACCID, dtype: int64\n"
     ]
    }
   ],
   "execution_count": 14
  },
  {
   "metadata": {},
   "cell_type": "code",
   "outputs": [],
   "execution_count": null,
   "source": [
    "#Como es normal en esta división, aunque no está balanceado, pero es normal porque hay muchos leves\n",
    "#porque probablemente hayan dejado el seguimiento pronto."
   ],
   "id": "69ae1eaa1ccbcb63"
  },
  {
   "metadata": {},
   "cell_type": "code",
   "outputs": [],
   "execution_count": null,
   "source": "",
   "id": "14ceefb3537d181f"
  }
 ],
 "metadata": {
  "kernelspec": {
   "display_name": "Python 3",
   "language": "python",
   "name": "python3"
  },
  "language_info": {
   "codemirror_mode": {
    "name": "ipython",
    "version": 2
   },
   "file_extension": ".py",
   "mimetype": "text/x-python",
   "name": "python",
   "nbconvert_exporter": "python",
   "pygments_lexer": "ipython2",
   "version": "2.7.6"
  }
 },
 "nbformat": 4,
 "nbformat_minor": 5
}
