{
 "cells": [
  {
   "metadata": {
    "ExecuteTime": {
     "end_time": "2025-05-18T07:14:10.627481Z",
     "start_time": "2025-05-18T07:13:45.290957Z"
    }
   },
   "cell_type": "code",
   "source": [
    "import pandas as pd\n",
    "import numpy as np\n",
    "from scipy.stats import chi2_contingency, kruskal\n",
    "#Cargar el excel.\n",
    "df = pd.read_excel(\"dataset.xlsx\")"
   ],
   "id": "fbc121e30a2defb3",
   "outputs": [],
   "execution_count": 3
  },
  {
   "metadata": {
    "ExecuteTime": {
     "end_time": "2025-05-18T07:14:10.638574Z",
     "start_time": "2025-05-18T07:14:10.634771Z"
    }
   },
   "cell_type": "code",
   "source": "#TRATAMIENTO DEL DATASET",
   "id": "f6b8d32e636cf045",
   "outputs": [],
   "execution_count": 4
  },
  {
   "metadata": {
    "ExecuteTime": {
     "end_time": "2025-05-18T07:14:10.724397Z",
     "start_time": "2025-05-18T07:14:10.657538Z"
    }
   },
   "cell_type": "code",
   "source": [
    "# Crear columna de fecha unificada\n",
    "df[\"FECHA\"] = pd.to_datetime(\n",
    "    dict(year=df[\"VISITYR\"], month=df[\"VISITMO\"], day=df[\"VISITDAY\"]),\n",
    "    errors='coerce'\n",
    ")\n",
    "# Eliminar las columnas originales de año, mes y día\n",
    "df = df.drop(columns=[\"VISITYR\", \"VISITMO\", \"VISITDAY\"])"
   ],
   "id": "afdddbcff9201887",
   "outputs": [],
   "execution_count": 5
  },
  {
   "metadata": {
    "ExecuteTime": {
     "end_time": "2025-05-18T07:14:10.752790Z",
     "start_time": "2025-05-18T07:14:10.742746Z"
    }
   },
   "cell_type": "code",
   "source": [
    "#Cambia mi variable sex para que sean valores 0 y 1 como otras categóricas para no perder la coherencia\n",
    "df[\"SEX\"] = df[\"SEX\"].replace({1: 1, 2: 0})"
   ],
   "id": "73e89dfd12437631",
   "outputs": [],
   "execution_count": 6
  },
  {
   "metadata": {
    "ExecuteTime": {
     "end_time": "2025-05-18T07:14:10.773424Z",
     "start_time": "2025-05-18T07:14:10.769164Z"
    }
   },
   "cell_type": "code",
   "source": "#Tratamiento de valores faltantes.",
   "id": "123c2bcad40a7cb",
   "outputs": [],
   "execution_count": 7
  },
  {
   "metadata": {
    "ExecuteTime": {
     "end_time": "2025-05-18T07:14:10.864179Z",
     "start_time": "2025-05-18T07:14:10.803572Z"
    }
   },
   "cell_type": "code",
   "source": [
    "#Diccionario con variables que tienen datos distintos a Nan y tendremos que transformar a Nan\n",
    "valores_faltantes = {\n",
    "    'CDRSUM': [16.5, 17.5],\n",
    "    'NACCGDS': [-4, 88],\n",
    "    'HYPERTEN': [-4, 9, 2],\n",
    "    'DIABETES': [-4, 9, 2],\n",
    "    'PD': [-4, 9],\n",
    "    'STROKE': [-4],\n",
    "    'RACE': [50, 99],\n",
    "    'EDUC': [99],\n",
    "    'NACCAGE': (\"range\", 18, 120)\n",
    "}\n",
    "# Reemplazo esos valores por Nans\n",
    "for columna, valores in valores_faltantes.items():\n",
    "    df[columna] = df[columna].replace(valores, np.nan)\n",
    "\n",
    "print(\"\\nPorcentaje de NaNs por variable:\")\n",
    "porcentaje_nans = df.isna().mean().sort_values(ascending=False) * 100\n",
    "print(porcentaje_nans)"
   ],
   "id": "5a0feab3a053613",
   "outputs": [
    {
     "name": "stdout",
     "output_type": "stream",
     "text": [
      "\n",
      "Porcentaje de NaNs por variable:\n",
      "STROKE      46.925568\n",
      "HYPERTEN    40.067023\n",
      "DIABETES    37.746339\n",
      "PD          36.974656\n",
      "NACCGDS     13.692495\n",
      "NACCAGE      2.684492\n",
      "RACE         1.632523\n",
      "EDUC         0.503694\n",
      "CDRSUM       0.196251\n",
      "FECHA        0.002562\n",
      "NACCID       0.001537\n",
      "SEX          0.001537\n",
      "dtype: float64\n"
     ]
    }
   ],
   "execution_count": 8
  },
  {
   "metadata": {
    "ExecuteTime": {
     "end_time": "2025-05-18T07:14:10.949678Z",
     "start_time": "2025-05-18T07:14:10.890088Z"
    }
   },
   "cell_type": "code",
   "source": [
    "# Número de filas antes de eliminar\n",
    "print(f\"Filas antes de eliminar: {df.shape[0]}\")\n",
    "\n",
    "# Eliminar filas con al menos un NaN en cualquier columna\n",
    "df = df.dropna()\n",
    "\n",
    "# Número de filas después de eliminar\n",
    "print(f\"Filas después de eliminar: {df.shape[0]}\")\n",
    "\n",
    "# Variables a comprobar si aún tienen NaNs\n",
    "variables_a_comprobar = [\n",
    "    \"STROKE\", \"HYPERTEN\", \"DIABETES\", \"PD\", \"NACCGDS\",\n",
    "    \"NACCAGE\", \"RACE\", \"EDUC\", \"CDRSUM\", \"FECHA\", \"NACCID\", \"SEX\"\n",
    "]\n",
    "\n",
    "# Comprobar y mostrar porcentaje de NaNs restantes en esas columnas\n",
    "nans_restantes = df[variables_a_comprobar].isna().mean() * 100\n",
    "\n",
    "if (nans_restantes > 0).any():\n",
    "    print(nans_restantes[nans_restantes > 0].sort_values(ascending=False))\n",
    "else:\n",
    "    print(\"No quedan NaNs en las variables clave.\")\n"
   ],
   "id": "1a443fbab69e7fdf",
   "outputs": [
    {
     "name": "stdout",
     "output_type": "stream",
     "text": [
      "Filas antes de eliminar: 195158\n",
      "Filas después de eliminar: 83516\n",
      "No quedan NaNs en las variables clave.\n"
     ]
    }
   ],
   "execution_count": 9
  },
  {
   "metadata": {
    "ExecuteTime": {
     "end_time": "2025-05-18T07:14:11.028793Z",
     "start_time": "2025-05-18T07:14:10.973758Z"
    }
   },
   "cell_type": "code",
   "source": [
    "# Contar número de visitas por paciente\n",
    "visitas_por_paciente = df[\"NACCID\"].value_counts()\n",
    "# Obtener los pacientes con 3 o más visitas\n",
    "pacientes_validos = visitas_por_paciente[visitas_por_paciente >= 3].index\n",
    "# Filtrar el DataFrame para quedarte solo con esos pacientes\n",
    "df = df[df[\"NACCID\"].isin(pacientes_validos)]\n",
    "# Mostrar número de filas finales\n",
    "print(f\"Filas tras filtrar pacientes con 3 o más visitas: {df.shape[0]}\")"
   ],
   "id": "afd3ce71dd0c911b",
   "outputs": [
    {
     "name": "stdout",
     "output_type": "stream",
     "text": [
      "Filas tras filtrar pacientes con 3 o más visitas: 61620\n"
     ]
    }
   ],
   "execution_count": 10
  },
  {
   "metadata": {
    "ExecuteTime": {
     "end_time": "2025-05-18T07:14:11.099350Z",
     "start_time": "2025-05-18T07:14:11.055609Z"
    }
   },
   "cell_type": "code",
   "source": [
    "# Calcular número de visitas por paciente\n",
    "# Agrupa por NACCID y cuenta cuántas visitas o filas tiene cada paciente\n",
    "visitas_por_paciente = df.groupby(\"NACCID\").size()\n",
    "\n",
    "# Mezcla el orden de los pacientes para seleccionar un subconjunto aleatorio\n",
    "pacientes_barajados = visitas_por_paciente.sample(frac=1, random_state=42)\n",
    "\n",
    "# Inicializar lista de pacientes seleccionados y contador de visitas\n",
    "pacientes_seleccionados = []\n",
    "total_filas = 0\n",
    "\n",
    "# Recorrer pacientes barajados y añadirlos hasta llegar a ~40.000 visitas\n",
    "for paciente, visitas in pacientes_barajados.items():\n",
    "    if total_filas + visitas > 40000:\n",
    "        break  # Detener el bucle si superaríamos las 40.000 filas\n",
    "    pacientes_seleccionados.append(paciente)  # Añadir paciente a la lista\n",
    "    total_filas += visitas  # Sumar sus visitas al total acumulado\n",
    "\n",
    "# Filtrar el DataFrame para conservar solo los pacientes seleccionados\n",
    "df = df[df[\"NACCID\"].isin(pacientes_seleccionados)]\n",
    "\n",
    "# Mostrar resultado final\n",
    "print(f\"Filas finales tras recorte a 40.000: {df.shape[0]}\")\n",
    "print(f\"Pacientes con ≥3 visitas incluidos: {len(pacientes_seleccionados)}\")"
   ],
   "id": "c2c9bae0c8c2e853",
   "outputs": [
    {
     "name": "stdout",
     "output_type": "stream",
     "text": [
      "Filas finales tras recorte a 40.000: 39998\n",
      "Pacientes con ≥3 visitas incluidos: 8295\n"
     ]
    }
   ],
   "execution_count": 11
  },
  {
   "metadata": {
    "ExecuteTime": {
     "end_time": "2025-05-18T07:14:11.124423Z",
     "start_time": "2025-05-18T07:14:11.120295Z"
    }
   },
   "cell_type": "code",
   "source": "#OBJETIVO 1",
   "id": "d3c79ffe1b0847bc",
   "outputs": [],
   "execution_count": 12
  },
  {
   "metadata": {
    "ExecuteTime": {
     "end_time": "2025-05-18T07:14:11.165098Z",
     "start_time": "2025-05-18T07:14:11.147803Z"
    }
   },
   "cell_type": "code",
   "source": [
    "#Clasica en 3 grupos la variable principal que es CDRSUM.\n",
    "def clasificar_gravedad(CDRSUM):\n",
    "    if CDRSUM <= 4.0:\n",
    "        return \"leve\"\n",
    "    elif CDRSUM <= 9.0:\n",
    "        return \"moderada\"\n",
    "    else:\n",
    "        return \"grave\"\n",
    "\n",
    "#Creo la variable que divide en estos 3 estadios\n",
    "df[\"GRAVEDAD_CDRSUM\"] = df[\"CDRSUM\"].apply(clasificar_gravedad)"
   ],
   "id": "12e153016456ac2a",
   "outputs": [],
   "execution_count": 13
  },
  {
   "metadata": {
    "ExecuteTime": {
     "end_time": "2025-05-18T07:14:11.199409Z",
     "start_time": "2025-05-18T07:14:11.187159Z"
    }
   },
   "cell_type": "code",
   "source": [
    "# Contar número de filas por grupo\n",
    "conteo = df[\"GRAVEDAD_CDRSUM\"].value_counts().sort_index()\n",
    "\n",
    "print(\"Número de filas (visitas) por grupo de gravedad:\")\n",
    "print(conteo)"
   ],
   "id": "c5dfb2fb207b4752",
   "outputs": [
    {
     "name": "stdout",
     "output_type": "stream",
     "text": [
      "Número de filas (visitas) por grupo de gravedad:\n",
      "GRAVEDAD_CDRSUM\n",
      "grave        1682\n",
      "leve        33521\n",
      "moderada     4795\n",
      "Name: count, dtype: int64\n"
     ]
    }
   ],
   "execution_count": 14
  },
  {
   "metadata": {
    "ExecuteTime": {
     "end_time": "2025-05-18T07:14:11.240299Z",
     "start_time": "2025-05-18T07:14:11.220768Z"
    }
   },
   "cell_type": "code",
   "source": [
    "# Contar pacientes únicos por grupo de gravedad\n",
    "pacientes_por_grupo = df.groupby(\"GRAVEDAD_CDRSUM\")[\"NACCID\"].nunique()\n",
    "\n",
    "print(\"Número de pacientes únicos por grupo de gravedad:\")\n",
    "print(pacientes_por_grupo)\n"
   ],
   "id": "a337b92c0b6521a3",
   "outputs": [
    {
     "name": "stdout",
     "output_type": "stream",
     "text": [
      "Número de pacientes únicos por grupo de gravedad:\n",
      "GRAVEDAD_CDRSUM\n",
      "grave       1000\n",
      "leve        7410\n",
      "moderada    2187\n",
      "Name: NACCID, dtype: int64\n"
     ]
    }
   ],
   "execution_count": 15
  },
  {
   "metadata": {
    "ExecuteTime": {
     "end_time": "2025-05-18T07:14:11.270132Z",
     "start_time": "2025-05-18T07:14:11.266343Z"
    }
   },
   "cell_type": "code",
   "source": [
    "#Como es normal en esta división, aunque no está balanceado, pero es normal porque hay muchos leves\n",
    "#porque probablemente hayan dejado el seguimiento pronto."
   ],
   "id": "69ae1eaa1ccbcb63",
   "outputs": [],
   "execution_count": 16
  },
  {
   "metadata": {
    "ExecuteTime": {
     "end_time": "2025-05-18T07:14:11.296151Z",
     "start_time": "2025-05-18T07:14:11.291619Z"
    }
   },
   "cell_type": "code",
   "source": [
    "variables_categoricas = [\"HYPERTEN\", \"DIABETES\", \"PD\", \"SEX\", \"RACE\", \"STROKE\", \"EDUC\"]\n",
    "variables_numericas = [\"NACCAGE\", \"NACCGDS\"]"
   ],
   "id": "4f9b9d8724323368",
   "outputs": [],
   "execution_count": 17
  },
  {
   "metadata": {
    "ExecuteTime": {
     "end_time": "2025-05-18T07:14:11.316415Z",
     "start_time": "2025-05-18T07:14:11.313349Z"
    }
   },
   "cell_type": "code",
   "source": "#La variable EDUC, aunque numérica, se ha tratado como categórica ordinal para el análisis, ya que representa años de educación completados, lo cual se interpreta como niveles discretos.",
   "id": "952c9fa072d5cc5b",
   "outputs": [],
   "execution_count": 18
  },
  {
   "metadata": {
    "ExecuteTime": {
     "end_time": "2025-05-18T07:14:11.471659Z",
     "start_time": "2025-05-18T07:14:11.338095Z"
    }
   },
   "cell_type": "code",
   "source": [
    "print(\"CONTRASTES DE HIPÓTESIS ENTRE GRUPOS DE GRAVEDAD (CDRSUM):\\n\")\n",
    "# Contrastes de hipótesis para variables categóricas → Chi-cuadrado\n",
    "for var in variables_categoricas:\n",
    "    tabla = pd.crosstab(df[\"GRAVEDAD_CDRSUM\"], df[var])\n",
    "    if tabla.shape[1] > 1:\n",
    "        stat, p, _, _ = chi2_contingency(tabla)\n",
    "        print(f\"{var} (Chi-cuadrado): p-valor = {p:.4f}\")\n",
    "    else:\n",
    "        print(f\"{var}: solo tiene una categoría válida tras limpieza, no se puede comparar.\")\n",
    "\n",
    "# Contrastes de hipótesis para variables numéricas → Kruskal-Wallis\n",
    "for var in variables_numericas:\n",
    "    grupos = [df[df[\"GRAVEDAD_CDRSUM\"] == g][var] for g in [\"leve\", \"moderada\", \"grave\"]]\n",
    "    stat, p = kruskal(*grupos)\n",
    "    print(f\"{var} (Kruskal-Wallis): p-valor = {p:.4f}\")"
   ],
   "id": "ced0ecab143c3d68",
   "outputs": [
    {
     "name": "stdout",
     "output_type": "stream",
     "text": [
      "CONTRASTES DE HIPÓTESIS ENTRE GRUPOS DE GRAVEDAD (CDRSUM):\n",
      "\n",
      "HYPERTEN (Chi-cuadrado): p-valor = 0.1948\n",
      "DIABETES (Chi-cuadrado): p-valor = 0.0326\n",
      "PD (Chi-cuadrado): p-valor = 0.0077\n",
      "SEX (Chi-cuadrado): p-valor = 0.0000\n",
      "RACE (Chi-cuadrado): p-valor = 0.0000\n",
      "STROKE (Chi-cuadrado): p-valor = 0.0000\n",
      "EDUC (Chi-cuadrado): p-valor = 0.0000\n",
      "NACCAGE (Kruskal-Wallis): p-valor = 0.0000\n",
      "NACCGDS (Kruskal-Wallis): p-valor = 0.0000\n"
     ]
    }
   ],
   "execution_count": 19
  },
  {
   "metadata": {
    "ExecuteTime": {
     "end_time": "2025-05-18T07:14:11.498800Z",
     "start_time": "2025-05-18T07:14:11.494340Z"
    }
   },
   "cell_type": "code",
   "source": [
    "#Se realizan contrastes de hipótesis para analizar si existenw diferencias significativas entre los tres grupos de gravedad (leve, moderada, grave) definidos a partir de la variable CDRSUM.\n",
    "#Para las variables categóricas se empleó el test de Chi-cuadrado, y para las variables numéricas, el test no paramétrico de Kruskal-Wallis.\n",
    "#Los resultados muestran que variables como DIABETES, SEX, RACE, STROKE, EDUC, NACCAGE y NACCGDS presentan diferencias estadísticamente significativas entre grupos (p < 0.05), lo que sugiere que podrían estar asociadas con el nivel de deterioro cognitivo. En cambio, HYPERTEN no mostró diferencias significativas."
   ],
   "id": "27ee8ded31b12058",
   "outputs": [],
   "execution_count": 20
  }
 ],
 "metadata": {
  "kernelspec": {
   "display_name": "Python 3",
   "language": "python",
   "name": "python3"
  },
  "language_info": {
   "codemirror_mode": {
    "name": "ipython",
    "version": 2
   },
   "file_extension": ".py",
   "mimetype": "text/x-python",
   "name": "python",
   "nbconvert_exporter": "python",
   "pygments_lexer": "ipython2",
   "version": "2.7.6"
  }
 },
 "nbformat": 4,
 "nbformat_minor": 5
}
